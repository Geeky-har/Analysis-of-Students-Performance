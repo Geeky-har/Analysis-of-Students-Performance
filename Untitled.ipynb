{
 "cells": [
  {
   "cell_type": "code",
   "execution_count": 1,
   "metadata": {},
   "outputs": [],
   "source": [
    "import pandas as pd\n",
    "import numpy as np\n",
    "import matplotlib.pyplot as plt"
   ]
  },
  {
   "cell_type": "code",
   "execution_count": 2,
   "metadata": {},
   "outputs": [],
   "source": [
    "df = pd.read_csv('internal2.csv')"
   ]
  },
  {
   "cell_type": "code",
   "execution_count": 3,
   "metadata": {},
   "outputs": [
    {
     "data": {
      "text/html": [
       "<div>\n",
       "<style scoped>\n",
       "    .dataframe tbody tr th:only-of-type {\n",
       "        vertical-align: middle;\n",
       "    }\n",
       "\n",
       "    .dataframe tbody tr th {\n",
       "        vertical-align: top;\n",
       "    }\n",
       "\n",
       "    .dataframe thead th {\n",
       "        text-align: right;\n",
       "    }\n",
       "</style>\n",
       "<table border=\"1\" class=\"dataframe\">\n",
       "  <thead>\n",
       "    <tr style=\"text-align: right;\">\n",
       "      <th></th>\n",
       "      <th>NAME</th>\n",
       "      <th>OFFICE MANAGEMENT</th>\n",
       "      <th>LOGICAL ORGANISATION</th>\n",
       "      <th>C LANGUAGE</th>\n",
       "      <th>COMPUTER FUNDAMENTALS</th>\n",
       "      <th>MATHS</th>\n",
       "    </tr>\n",
       "  </thead>\n",
       "  <tbody>\n",
       "    <tr>\n",
       "      <th>0</th>\n",
       "      <td>TEJAS</td>\n",
       "      <td>0</td>\n",
       "      <td>31</td>\n",
       "      <td>37</td>\n",
       "      <td>28</td>\n",
       "      <td>15</td>\n",
       "    </tr>\n",
       "    <tr>\n",
       "      <th>1</th>\n",
       "      <td>KAPIL MANDAL</td>\n",
       "      <td>31</td>\n",
       "      <td>37</td>\n",
       "      <td>22</td>\n",
       "      <td>29</td>\n",
       "      <td>22</td>\n",
       "    </tr>\n",
       "    <tr>\n",
       "      <th>2</th>\n",
       "      <td>NIKHIL</td>\n",
       "      <td>34</td>\n",
       "      <td>26</td>\n",
       "      <td>12</td>\n",
       "      <td>25</td>\n",
       "      <td>7</td>\n",
       "    </tr>\n",
       "    <tr>\n",
       "      <th>3</th>\n",
       "      <td>RUPAM</td>\n",
       "      <td>45</td>\n",
       "      <td>41</td>\n",
       "      <td>40</td>\n",
       "      <td>45</td>\n",
       "      <td>27</td>\n",
       "    </tr>\n",
       "    <tr>\n",
       "      <th>4</th>\n",
       "      <td>HARSH</td>\n",
       "      <td>40</td>\n",
       "      <td>38</td>\n",
       "      <td>34</td>\n",
       "      <td>49</td>\n",
       "      <td>40</td>\n",
       "    </tr>\n",
       "    <tr>\n",
       "      <th>5</th>\n",
       "      <td>MONICA AGGARWAL</td>\n",
       "      <td>43</td>\n",
       "      <td>42</td>\n",
       "      <td>34</td>\n",
       "      <td>49</td>\n",
       "      <td>30</td>\n",
       "    </tr>\n",
       "    <tr>\n",
       "      <th>6</th>\n",
       "      <td>AYUSH SINGH</td>\n",
       "      <td>12</td>\n",
       "      <td>0</td>\n",
       "      <td>0</td>\n",
       "      <td>15</td>\n",
       "      <td>0</td>\n",
       "    </tr>\n",
       "    <tr>\n",
       "      <th>7</th>\n",
       "      <td>ANKIT TIWARI</td>\n",
       "      <td>0</td>\n",
       "      <td>15</td>\n",
       "      <td>7</td>\n",
       "      <td>16</td>\n",
       "      <td>2</td>\n",
       "    </tr>\n",
       "    <tr>\n",
       "      <th>8</th>\n",
       "      <td>ANJALI</td>\n",
       "      <td>13</td>\n",
       "      <td>19</td>\n",
       "      <td>20</td>\n",
       "      <td>35</td>\n",
       "      <td>7</td>\n",
       "    </tr>\n",
       "    <tr>\n",
       "      <th>9</th>\n",
       "      <td>VISHAL KUMAR</td>\n",
       "      <td>25</td>\n",
       "      <td>39</td>\n",
       "      <td>19</td>\n",
       "      <td>41</td>\n",
       "      <td>12</td>\n",
       "    </tr>\n",
       "    <tr>\n",
       "      <th>10</th>\n",
       "      <td>ROHAN</td>\n",
       "      <td>15</td>\n",
       "      <td>0</td>\n",
       "      <td>0</td>\n",
       "      <td>17</td>\n",
       "      <td>5</td>\n",
       "    </tr>\n",
       "    <tr>\n",
       "      <th>11</th>\n",
       "      <td>KUNAL SAINI</td>\n",
       "      <td>10</td>\n",
       "      <td>19</td>\n",
       "      <td>12</td>\n",
       "      <td>24</td>\n",
       "      <td>22</td>\n",
       "    </tr>\n",
       "    <tr>\n",
       "      <th>12</th>\n",
       "      <td>SIMRAN JHA</td>\n",
       "      <td>17</td>\n",
       "      <td>26</td>\n",
       "      <td>0</td>\n",
       "      <td>44</td>\n",
       "      <td>5</td>\n",
       "    </tr>\n",
       "    <tr>\n",
       "      <th>13</th>\n",
       "      <td>RIYA</td>\n",
       "      <td>26</td>\n",
       "      <td>15</td>\n",
       "      <td>0</td>\n",
       "      <td>27</td>\n",
       "      <td>5</td>\n",
       "    </tr>\n",
       "    <tr>\n",
       "      <th>14</th>\n",
       "      <td>SHIVAM BANSAL</td>\n",
       "      <td>10</td>\n",
       "      <td>31</td>\n",
       "      <td>15</td>\n",
       "      <td>32</td>\n",
       "      <td>9</td>\n",
       "    </tr>\n",
       "    <tr>\n",
       "      <th>15</th>\n",
       "      <td>KUNDAN</td>\n",
       "      <td>25</td>\n",
       "      <td>21</td>\n",
       "      <td>17</td>\n",
       "      <td>13</td>\n",
       "      <td>6</td>\n",
       "    </tr>\n",
       "    <tr>\n",
       "      <th>16</th>\n",
       "      <td>RIYAZ</td>\n",
       "      <td>23</td>\n",
       "      <td>31</td>\n",
       "      <td>12</td>\n",
       "      <td>18</td>\n",
       "      <td>8</td>\n",
       "    </tr>\n",
       "    <tr>\n",
       "      <th>17</th>\n",
       "      <td>YOGESH</td>\n",
       "      <td>18</td>\n",
       "      <td>49</td>\n",
       "      <td>35</td>\n",
       "      <td>44</td>\n",
       "      <td>40</td>\n",
       "    </tr>\n",
       "    <tr>\n",
       "      <th>18</th>\n",
       "      <td>MOHIT GARG</td>\n",
       "      <td>14</td>\n",
       "      <td>18</td>\n",
       "      <td>24</td>\n",
       "      <td>29</td>\n",
       "      <td>5</td>\n",
       "    </tr>\n",
       "    <tr>\n",
       "      <th>19</th>\n",
       "      <td>ABHISHEK ANAND</td>\n",
       "      <td>17</td>\n",
       "      <td>20</td>\n",
       "      <td>24</td>\n",
       "      <td>26</td>\n",
       "      <td>10</td>\n",
       "    </tr>\n",
       "    <tr>\n",
       "      <th>20</th>\n",
       "      <td>SHYAMSUNDAR</td>\n",
       "      <td>20</td>\n",
       "      <td>13</td>\n",
       "      <td>11</td>\n",
       "      <td>16</td>\n",
       "      <td>5</td>\n",
       "    </tr>\n",
       "    <tr>\n",
       "      <th>21</th>\n",
       "      <td>SHUBHAM GAUR</td>\n",
       "      <td>20</td>\n",
       "      <td>0</td>\n",
       "      <td>15</td>\n",
       "      <td>21</td>\n",
       "      <td>0</td>\n",
       "    </tr>\n",
       "    <tr>\n",
       "      <th>22</th>\n",
       "      <td>SHUBHAM SINGH</td>\n",
       "      <td>27</td>\n",
       "      <td>11</td>\n",
       "      <td>13</td>\n",
       "      <td>30</td>\n",
       "      <td>12</td>\n",
       "    </tr>\n",
       "    <tr>\n",
       "      <th>23</th>\n",
       "      <td>VIKAS K PANDEY</td>\n",
       "      <td>32</td>\n",
       "      <td>14</td>\n",
       "      <td>15</td>\n",
       "      <td>25</td>\n",
       "      <td>0</td>\n",
       "    </tr>\n",
       "    <tr>\n",
       "      <th>24</th>\n",
       "      <td>SUNIL</td>\n",
       "      <td>17</td>\n",
       "      <td>23</td>\n",
       "      <td>10</td>\n",
       "      <td>26</td>\n",
       "      <td>2</td>\n",
       "    </tr>\n",
       "    <tr>\n",
       "      <th>25</th>\n",
       "      <td>POONAM</td>\n",
       "      <td>44</td>\n",
       "      <td>38</td>\n",
       "      <td>37</td>\n",
       "      <td>47</td>\n",
       "      <td>21</td>\n",
       "    </tr>\n",
       "    <tr>\n",
       "      <th>26</th>\n",
       "      <td>VISHAL PANDEY</td>\n",
       "      <td>38</td>\n",
       "      <td>39</td>\n",
       "      <td>21</td>\n",
       "      <td>22</td>\n",
       "      <td>5</td>\n",
       "    </tr>\n",
       "    <tr>\n",
       "      <th>27</th>\n",
       "      <td>BITTU</td>\n",
       "      <td>33</td>\n",
       "      <td>29</td>\n",
       "      <td>22</td>\n",
       "      <td>27</td>\n",
       "      <td>5</td>\n",
       "    </tr>\n",
       "    <tr>\n",
       "      <th>28</th>\n",
       "      <td>VISHWAJEET</td>\n",
       "      <td>19</td>\n",
       "      <td>24</td>\n",
       "      <td>16</td>\n",
       "      <td>23</td>\n",
       "      <td>4</td>\n",
       "    </tr>\n",
       "    <tr>\n",
       "      <th>29</th>\n",
       "      <td>ARYAMAN RANA</td>\n",
       "      <td>0</td>\n",
       "      <td>0</td>\n",
       "      <td>0</td>\n",
       "      <td>25</td>\n",
       "      <td>1</td>\n",
       "    </tr>\n",
       "  </tbody>\n",
       "</table>\n",
       "</div>"
      ],
      "text/plain": [
       "               NAME  OFFICE MANAGEMENT  LOGICAL ORGANISATION  C LANGUAGE  \\\n",
       "0             TEJAS                  0                    31          37   \n",
       "1      KAPIL MANDAL                 31                    37          22   \n",
       "2            NIKHIL                 34                    26          12   \n",
       "3             RUPAM                 45                    41          40   \n",
       "4             HARSH                 40                    38          34   \n",
       "5   MONICA AGGARWAL                 43                    42          34   \n",
       "6       AYUSH SINGH                 12                     0           0   \n",
       "7      ANKIT TIWARI                  0                    15           7   \n",
       "8            ANJALI                 13                    19          20   \n",
       "9      VISHAL KUMAR                 25                    39          19   \n",
       "10            ROHAN                 15                     0           0   \n",
       "11     KUNAL SAINI                  10                    19          12   \n",
       "12       SIMRAN JHA                 17                    26           0   \n",
       "13             RIYA                 26                    15           0   \n",
       "14    SHIVAM BANSAL                 10                    31          15   \n",
       "15           KUNDAN                 25                    21          17   \n",
       "16            RIYAZ                 23                    31          12   \n",
       "17           YOGESH                 18                    49          35   \n",
       "18       MOHIT GARG                 14                    18          24   \n",
       "19   ABHISHEK ANAND                 17                    20          24   \n",
       "20      SHYAMSUNDAR                 20                    13          11   \n",
       "21     SHUBHAM GAUR                 20                     0          15   \n",
       "22    SHUBHAM SINGH                 27                    11          13   \n",
       "23   VIKAS K PANDEY                 32                    14          15   \n",
       "24            SUNIL                 17                    23          10   \n",
       "25           POONAM                 44                    38          37   \n",
       "26    VISHAL PANDEY                 38                    39          21   \n",
       "27            BITTU                 33                    29          22   \n",
       "28       VISHWAJEET                 19                    24          16   \n",
       "29     ARYAMAN RANA                  0                     0           0   \n",
       "\n",
       "    COMPUTER FUNDAMENTALS  MATHS  \n",
       "0                      28     15  \n",
       "1                      29     22  \n",
       "2                      25      7  \n",
       "3                      45     27  \n",
       "4                      49     40  \n",
       "5                      49     30  \n",
       "6                      15      0  \n",
       "7                      16      2  \n",
       "8                      35      7  \n",
       "9                      41     12  \n",
       "10                     17      5  \n",
       "11                     24     22  \n",
       "12                     44      5  \n",
       "13                     27      5  \n",
       "14                     32      9  \n",
       "15                     13      6  \n",
       "16                     18      8  \n",
       "17                     44     40  \n",
       "18                     29      5  \n",
       "19                     26     10  \n",
       "20                     16      5  \n",
       "21                     21      0  \n",
       "22                     30     12  \n",
       "23                     25      0  \n",
       "24                     26      2  \n",
       "25                     47     21  \n",
       "26                     22      5  \n",
       "27                     27      5  \n",
       "28                     23      4  \n",
       "29                     25      1  "
      ]
     },
     "execution_count": 3,
     "metadata": {},
     "output_type": "execute_result"
    }
   ],
   "source": [
    "df"
   ]
  },
  {
   "cell_type": "code",
   "execution_count": 4,
   "metadata": {},
   "outputs": [
    {
     "data": {
      "text/html": [
       "<div>\n",
       "<style scoped>\n",
       "    .dataframe tbody tr th:only-of-type {\n",
       "        vertical-align: middle;\n",
       "    }\n",
       "\n",
       "    .dataframe tbody tr th {\n",
       "        vertical-align: top;\n",
       "    }\n",
       "\n",
       "    .dataframe thead th {\n",
       "        text-align: right;\n",
       "    }\n",
       "</style>\n",
       "<table border=\"1\" class=\"dataframe\">\n",
       "  <thead>\n",
       "    <tr style=\"text-align: right;\">\n",
       "      <th></th>\n",
       "      <th>OFFICE MANAGEMENT</th>\n",
       "      <th>LOGICAL ORGANISATION</th>\n",
       "      <th>C LANGUAGE</th>\n",
       "      <th>COMPUTER FUNDAMENTALS</th>\n",
       "      <th>MATHS</th>\n",
       "    </tr>\n",
       "  </thead>\n",
       "  <tbody>\n",
       "    <tr>\n",
       "      <th>count</th>\n",
       "      <td>30.000000</td>\n",
       "      <td>30.000000</td>\n",
       "      <td>30.000000</td>\n",
       "      <td>30.000000</td>\n",
       "      <td>30.000000</td>\n",
       "    </tr>\n",
       "    <tr>\n",
       "      <th>mean</th>\n",
       "      <td>22.266667</td>\n",
       "      <td>23.633333</td>\n",
       "      <td>17.466667</td>\n",
       "      <td>28.933333</td>\n",
       "      <td>11.066667</td>\n",
       "    </tr>\n",
       "    <tr>\n",
       "      <th>std</th>\n",
       "      <td>12.703335</td>\n",
       "      <td>13.636875</td>\n",
       "      <td>11.941620</td>\n",
       "      <td>10.705891</td>\n",
       "      <td>11.227839</td>\n",
       "    </tr>\n",
       "    <tr>\n",
       "      <th>min</th>\n",
       "      <td>0.000000</td>\n",
       "      <td>0.000000</td>\n",
       "      <td>0.000000</td>\n",
       "      <td>13.000000</td>\n",
       "      <td>0.000000</td>\n",
       "    </tr>\n",
       "    <tr>\n",
       "      <th>25%</th>\n",
       "      <td>14.250000</td>\n",
       "      <td>15.000000</td>\n",
       "      <td>11.250000</td>\n",
       "      <td>22.250000</td>\n",
       "      <td>5.000000</td>\n",
       "    </tr>\n",
       "    <tr>\n",
       "      <th>50%</th>\n",
       "      <td>20.000000</td>\n",
       "      <td>23.500000</td>\n",
       "      <td>15.500000</td>\n",
       "      <td>26.500000</td>\n",
       "      <td>6.500000</td>\n",
       "    </tr>\n",
       "    <tr>\n",
       "      <th>75%</th>\n",
       "      <td>31.750000</td>\n",
       "      <td>35.500000</td>\n",
       "      <td>23.500000</td>\n",
       "      <td>34.250000</td>\n",
       "      <td>14.250000</td>\n",
       "    </tr>\n",
       "    <tr>\n",
       "      <th>max</th>\n",
       "      <td>45.000000</td>\n",
       "      <td>49.000000</td>\n",
       "      <td>40.000000</td>\n",
       "      <td>49.000000</td>\n",
       "      <td>40.000000</td>\n",
       "    </tr>\n",
       "  </tbody>\n",
       "</table>\n",
       "</div>"
      ],
      "text/plain": [
       "       OFFICE MANAGEMENT  LOGICAL ORGANISATION  C LANGUAGE  \\\n",
       "count          30.000000             30.000000   30.000000   \n",
       "mean           22.266667             23.633333   17.466667   \n",
       "std            12.703335             13.636875   11.941620   \n",
       "min             0.000000              0.000000    0.000000   \n",
       "25%            14.250000             15.000000   11.250000   \n",
       "50%            20.000000             23.500000   15.500000   \n",
       "75%            31.750000             35.500000   23.500000   \n",
       "max            45.000000             49.000000   40.000000   \n",
       "\n",
       "       COMPUTER FUNDAMENTALS      MATHS  \n",
       "count              30.000000  30.000000  \n",
       "mean               28.933333  11.066667  \n",
       "std                10.705891  11.227839  \n",
       "min                13.000000   0.000000  \n",
       "25%                22.250000   5.000000  \n",
       "50%                26.500000   6.500000  \n",
       "75%                34.250000  14.250000  \n",
       "max                49.000000  40.000000  "
      ]
     },
     "execution_count": 4,
     "metadata": {},
     "output_type": "execute_result"
    }
   ],
   "source": [
    "df.describe()"
   ]
  },
  {
   "cell_type": "markdown",
   "metadata": {},
   "source": [
    "# Analysis of Office Management tools"
   ]
  },
  {
   "cell_type": "code",
   "execution_count": 5,
   "metadata": {},
   "outputs": [],
   "source": [
    "df_omt = df['OFFICE MANAGEMENT'].sort_values(ascending=False)"
   ]
  },
  {
   "cell_type": "code",
   "execution_count": 6,
   "metadata": {},
   "outputs": [
    {
     "data": {
      "text/plain": [
       "count    30.000000\n",
       "mean     22.266667\n",
       "std      12.703335\n",
       "min       0.000000\n",
       "25%      14.250000\n",
       "50%      20.000000\n",
       "75%      31.750000\n",
       "max      45.000000\n",
       "Name: OFFICE MANAGEMENT, dtype: float64"
      ]
     },
     "execution_count": 6,
     "metadata": {},
     "output_type": "execute_result"
    }
   ],
   "source": [
    "df_omt.describe()"
   ]
  },
  {
   "cell_type": "code",
   "execution_count": 7,
   "metadata": {},
   "outputs": [],
   "source": [
    "omt_mean = df_omt.describe()['mean']"
   ]
  },
  {
   "cell_type": "code",
   "execution_count": 8,
   "metadata": {},
   "outputs": [
    {
     "data": {
      "text/plain": [
       "22.266666666666666"
      ]
     },
     "execution_count": 8,
     "metadata": {},
     "output_type": "execute_result"
    }
   ],
   "source": [
    "omt_mean"
   ]
  },
  {
   "cell_type": "code",
   "execution_count": 9,
   "metadata": {},
   "outputs": [],
   "source": [
    "high_five_score_omt = np.array(df_omt.head(5))"
   ]
  },
  {
   "cell_type": "code",
   "execution_count": 10,
   "metadata": {},
   "outputs": [
    {
     "data": {
      "text/plain": [
       "array([45, 44, 43, 40, 38], dtype=int64)"
      ]
     },
     "execution_count": 10,
     "metadata": {},
     "output_type": "execute_result"
    }
   ],
   "source": [
    "high_five_score_omt"
   ]
  },
  {
   "cell_type": "code",
   "execution_count": 11,
   "metadata": {},
   "outputs": [],
   "source": [
    "high_five_name_omt = []\n",
    "for i in range(len(high_five_score_omt)):\n",
    "    index = df[df['OFFICE MANAGEMENT'] == high_five_score_omt[i]].index.values\n",
    "    high_five_name_omt.append(df.loc[index[0], 'NAME'])"
   ]
  },
  {
   "cell_type": "code",
   "execution_count": 12,
   "metadata": {},
   "outputs": [
    {
     "name": "stdout",
     "output_type": "stream",
     "text": [
      "['RUPAM', 'POONAM', 'MONICA AGGARWAL', 'HARSH', 'VISHAL PANDEY']\n"
     ]
    }
   ],
   "source": [
    "print(high_five_name_omt)"
   ]
  },
  {
   "cell_type": "markdown",
   "metadata": {},
   "source": [
    "**Top Five Performers in Office Management tools**"
   ]
  },
  {
   "cell_type": "code",
   "execution_count": 13,
   "metadata": {},
   "outputs": [
    {
     "data": {
      "image/png": "[encoded data removed]",
      "text/plain": [
       "<Figure size 432x288 with 1 Axes>"
      ]
     },
     "metadata": {
      "needs_background": "light"
     },
     "output_type": "display_data"
    }
   ],
   "source": [
    "fig = plt.figure()\n",
    "ax = fig.add_axes([0,0,1,1])\n",
    "name = high_five_name_omt\n",
    "scores = high_five_score_omt\n",
    "ax.bar(name,scores, color='blue', width=0.5)\n",
    "plt.xlabel('NAME OF THE STUDENTS')\n",
    "plt.ylabel('MARKS OBTAINED')\n",
    "plt.title('TOP 5 PERFORMERS')\n",
    "plt.show()"
   ]
  },
  {
   "cell_type": "code",
   "execution_count": 14,
   "metadata": {},
   "outputs": [],
   "source": [
    "df_omt_asc = df['OFFICE MANAGEMENT'].sort_values(ascending=True)"
   ]
  },
  {
   "cell_type": "code",
   "execution_count": 15,
   "metadata": {},
   "outputs": [
    {
     "data": {
      "text/plain": [
       "0      0\n",
       "7      0\n",
       "29     0\n",
       "14    10\n",
       "11    10\n",
       "6     12\n",
       "8     13\n",
       "18    14\n",
       "10    15\n",
       "24    17\n",
       "19    17\n",
       "12    17\n",
       "17    18\n",
       "28    19\n",
       "21    20\n",
       "20    20\n",
       "16    23\n",
       "15    25\n",
       "9     25\n",
       "13    26\n",
       "22    27\n",
       "1     31\n",
       "23    32\n",
       "27    33\n",
       "2     34\n",
       "26    38\n",
       "4     40\n",
       "5     43\n",
       "25    44\n",
       "3     45\n",
       "Name: OFFICE MANAGEMENT, dtype: int64"
      ]
     },
     "execution_count": 15,
     "metadata": {},
     "output_type": "execute_result"
    }
   ],
   "source": [
    "df_omt_asc"
   ]
  },
  {
   "cell_type": "code",
   "execution_count": 16,
   "metadata": {},
   "outputs": [],
   "source": [
    "present_count_omt = 0\n",
    "for i in range(len(df_omt_asc)):\n",
    "    if df_omt_asc[i] != 0:\n",
    "        present_count_omt += 1"
   ]
  },
  {
   "cell_type": "code",
   "execution_count": 17,
   "metadata": {},
   "outputs": [],
   "source": [
    "absent_count_omt = len(df_omt_asc) - present_count_omt"
   ]
  },
  {
   "cell_type": "code",
   "execution_count": 18,
   "metadata": {},
   "outputs": [
    {
     "data": {
      "text/plain": [
       "3"
      ]
     },
     "execution_count": 18,
     "metadata": {},
     "output_type": "execute_result"
    }
   ],
   "source": [
    "absent_count_omt"
   ]
  },
  {
   "cell_type": "markdown",
   "metadata": {},
   "source": [
    "**Present Vs Absent in Office Management Tools**"
   ]
  },
  {
   "cell_type": "code",
   "execution_count": 19,
   "metadata": {},
   "outputs": [
    {
     "data": {
      "image/png": "[encoded data removed]",
      "text/plain": [
       "<Figure size 432x288 with 1 Axes>"
      ]
     },
     "metadata": {},
     "output_type": "display_data"
    }
   ],
   "source": [
    "labels = 'Present', 'Absent/Zero Obtained'\n",
    "sizes = [present_count_omt, absent_count_omt]\n",
    "explode = [0, 0.2]\n",
    "fig1, ax1 = plt.subplots()\n",
    "ax1.pie(sizes, explode=explode, labels=labels, autopct='%1.1f%%',\n",
    "        shadow=True, startangle=90)\n",
    "ax1.axis('equal')  # Equal aspect ratio ensures that pie is drawn as a circle.\n",
    "\n",
    "plt.show()"
   ]
  },
  {
   "cell_type": "code",
   "execution_count": 20,
   "metadata": {},
   "outputs": [],
   "source": [
    "absent_list_omt = df[df['OFFICE MANAGEMENT'] == 0].index.values"
   ]
  },
  {
   "cell_type": "code",
   "execution_count": 21,
   "metadata": {},
   "outputs": [],
   "source": [
    "absent_list_name_omt = []\n",
    "for i in range(len(absent_list_omt)):\n",
    "    absent_list_name_omt.append(df.loc[absent_list_omt[i], 'NAME'])"
   ]
  },
  {
   "cell_type": "markdown",
   "metadata": {},
   "source": [
    "**List of Absentees and Those students who scored 0**"
   ]
  },
  {
   "cell_type": "code",
   "execution_count": 22,
   "metadata": {},
   "outputs": [
    {
     "name": "stdout",
     "output_type": "stream",
     "text": [
      "1. TEJAS.\n",
      "2. ANKIT TIWARI.\n",
      "3. ARYAMAN RANA.\n"
     ]
    }
   ],
   "source": [
    "count = 1\n",
    "for item in absent_list_name_omt:\n",
    "    print(f'{count}. {item}.')\n",
    "    count += 1"
   ]
  },
  {
   "cell_type": "code",
   "execution_count": 23,
   "metadata": {},
   "outputs": [],
   "source": [
    "pass_omt = 0\n",
    "fail_omt = 0\n",
    "\n",
    "for i in range(len(df_omt)):\n",
    "    if df_omt[i] < 16.5:\n",
    "        fail_omt += 1\n",
    "        \n",
    "    else:\n",
    "        pass_omt += 1"
   ]
  },
  {
   "cell_type": "code",
   "execution_count": 24,
   "metadata": {},
   "outputs": [
    {
     "data": {
      "text/plain": [
       "9"
      ]
     },
     "execution_count": 24,
     "metadata": {},
     "output_type": "execute_result"
    }
   ],
   "source": [
    "fail_omt"
   ]
  },
  {
   "cell_type": "code",
   "execution_count": 25,
   "metadata": {},
   "outputs": [
    {
     "data": {
      "text/plain": [
       "21"
      ]
     },
     "execution_count": 25,
     "metadata": {},
     "output_type": "execute_result"
    }
   ],
   "source": [
    "pass_omt"
   ]
  },
  {
   "cell_type": "markdown",
   "metadata": {},
   "source": [
    "**Pie chart visualisation for pass/fail ratios**"
   ]
  },
  {
   "cell_type": "code",
   "execution_count": 26,
   "metadata": {},
   "outputs": [
    {
     "data": {
      "image/png": "[encoded data removed]",
      "text/plain": [
       "<Figure size 432x288 with 1 Axes>"
      ]
     },
     "metadata": {},
     "output_type": "display_data"
    }
   ],
   "source": [
    "labels = 'Pass', 'Fail'\n",
    "sizes = [pass_omt, fail_omt]\n",
    "explode = [0, 0.1]\n",
    "fig1, ax1 = plt.subplots()\n",
    "ax1.pie(sizes, explode=explode, labels=labels, autopct='%1.1f%%',\n",
    "        shadow=True, startangle=90)\n",
    "ax1.axis('equal')  # Equal aspect ratio ensures that pie is drawn as a circle.\n",
    "\n",
    "plt.show()"
   ]
  },
  {
   "cell_type": "markdown",
   "metadata": {},
   "source": [
    "# Analysis of Computer Fundamentals"
   ]
  },
  {
   "cell_type": "code",
   "execution_count": 27,
   "metadata": {},
   "outputs": [],
   "source": [
    "df_cf = df['COMPUTER FUNDAMENTALS'].sort_values(ascending=False)"
   ]
  },
  {
   "cell_type": "code",
   "execution_count": 28,
   "metadata": {},
   "outputs": [
    {
     "data": {
      "text/plain": [
       "4     49\n",
       "5     49\n",
       "25    47\n",
       "3     45\n",
       "17    44\n",
       "12    44\n",
       "9     41\n",
       "8     35\n",
       "14    32\n",
       "22    30\n",
       "1     29\n",
       "18    29\n",
       "0     28\n",
       "13    27\n",
       "27    27\n",
       "19    26\n",
       "24    26\n",
       "29    25\n",
       "23    25\n",
       "2     25\n",
       "11    24\n",
       "28    23\n",
       "26    22\n",
       "21    21\n",
       "16    18\n",
       "10    17\n",
       "7     16\n",
       "20    16\n",
       "6     15\n",
       "15    13\n",
       "Name: COMPUTER FUNDAMENTALS, dtype: int64"
      ]
     },
     "execution_count": 28,
     "metadata": {},
     "output_type": "execute_result"
    }
   ],
   "source": [
    "df_cf"
   ]
  },
  {
   "cell_type": "code",
   "execution_count": 29,
   "metadata": {},
   "outputs": [
    {
     "data": {
      "text/plain": [
       "count    30.000000\n",
       "mean     28.933333\n",
       "std      10.705891\n",
       "min      13.000000\n",
       "25%      22.250000\n",
       "50%      26.500000\n",
       "75%      34.250000\n",
       "max      49.000000\n",
       "Name: COMPUTER FUNDAMENTALS, dtype: float64"
      ]
     },
     "execution_count": 29,
     "metadata": {},
     "output_type": "execute_result"
    }
   ],
   "source": [
    "df_cf.describe()"
   ]
  },
  {
   "cell_type": "code",
   "execution_count": 30,
   "metadata": {},
   "outputs": [],
   "source": [
    "cf_mean = df_cf.describe()['mean']"
   ]
  },
  {
   "cell_type": "code",
   "execution_count": 31,
   "metadata": {},
   "outputs": [
    {
     "data": {
      "text/plain": [
       "28.933333333333334"
      ]
     },
     "execution_count": 31,
     "metadata": {},
     "output_type": "execute_result"
    }
   ],
   "source": [
    "cf_mean"
   ]
  },
  {
   "cell_type": "code",
   "execution_count": 32,
   "metadata": {},
   "outputs": [],
   "source": [
    "high_five_marks_cf = np.unique(np.array(df_cf.head(5)))"
   ]
  },
  {
   "cell_type": "code",
   "execution_count": 33,
   "metadata": {},
   "outputs": [
    {
     "data": {
      "text/plain": [
       "array([44, 45, 47, 49], dtype=int64)"
      ]
     },
     "execution_count": 33,
     "metadata": {},
     "output_type": "execute_result"
    }
   ],
   "source": [
    "high_five_marks_cf"
   ]
  },
  {
   "cell_type": "code",
   "execution_count": 34,
   "metadata": {},
   "outputs": [],
   "source": [
    "high_five_name_cf = []\n",
    "for i in range(len(high_five_marks_cf)):\n",
    "    index = df[df['COMPUTER FUNDAMENTALS'] == high_five_marks_cf[i]].index.values\n",
    "    for j in range(len(index)):\n",
    "        high_five_name_cf.append(df.loc[index[j], 'NAME'])"
   ]
  },
  {
   "cell_type": "code",
   "execution_count": 35,
   "metadata": {},
   "outputs": [
    {
     "data": {
      "text/plain": [
       "['SIMRAN JHA', 'YOGESH', 'RUPAM', 'POONAM', 'HARSH', 'MONICA AGGARWAL']"
      ]
     },
     "execution_count": 35,
     "metadata": {},
     "output_type": "execute_result"
    }
   ],
   "source": [
    "high_five_name_cf"
   ]
  },
  {
   "cell_type": "code",
   "execution_count": 36,
   "metadata": {},
   "outputs": [
    {
     "data": {
      "text/plain": [
       "array([12], dtype=int64)"
      ]
     },
     "execution_count": 36,
     "metadata": {},
     "output_type": "execute_result"
    }
   ],
   "source": [
    "df[df['NAME'] == 'SIMRAN JHA'].index.values"
   ]
  },
  {
   "cell_type": "code",
   "execution_count": 37,
   "metadata": {},
   "outputs": [
    {
     "data": {
      "text/plain": [
       "44"
      ]
     },
     "execution_count": 37,
     "metadata": {},
     "output_type": "execute_result"
    }
   ],
   "source": [
    "df.loc[12, 'COMPUTER FUNDAMENTALS']"
   ]
  },
  {
   "cell_type": "code",
   "execution_count": 38,
   "metadata": {},
   "outputs": [],
   "source": [
    "high_five_score_cf = []\n",
    "for item in high_five_name_cf:\n",
    "    temp = df[df['NAME'] == item].index.values\n",
    "    high_five_score_cf.append(df.loc[temp[0], 'COMPUTER FUNDAMENTALS'])\n",
    "    "
   ]
  },
  {
   "cell_type": "code",
   "execution_count": 39,
   "metadata": {},
   "outputs": [
    {
     "data": {
      "text/plain": [
       "[44, 44, 45, 47, 49, 49]"
      ]
     },
     "execution_count": 39,
     "metadata": {},
     "output_type": "execute_result"
    }
   ],
   "source": [
    "high_five_score_cf"
   ]
  },
  {
   "cell_type": "markdown",
   "metadata": {},
   "source": [
    "**Top Five Performers in Office Management tools**"
   ]
  },
  {
   "cell_type": "code",
   "execution_count": 40,
   "metadata": {},
   "outputs": [
    {
     "data": {
      "image/png": "[encoded data removed]",
      "text/plain": [
       "<Figure size 432x288 with 1 Axes>"
      ]
     },
     "metadata": {
      "needs_background": "light"
     },
     "output_type": "display_data"
    }
   ],
   "source": [
    "fig = plt.figure()\n",
    "ax = fig.add_axes([0,0,1,1])\n",
    "name = high_five_name_cf\n",
    "scores = high_five_score_cf\n",
    "ax.bar(name,scores, color='green', width=0.5, align='center')\n",
    "plt.xlabel('NAME OF THE STUDENTS')\n",
    "plt.ylabel('MARKS OBTAINED')\n",
    "plt.title('TOP 5 PERFORMERS')\n",
    "plt.show()"
   ]
  },
  {
   "cell_type": "code",
   "execution_count": 41,
   "metadata": {},
   "outputs": [
    {
     "data": {
      "text/plain": [
       "4     49\n",
       "5     49\n",
       "25    47\n",
       "3     45\n",
       "17    44\n",
       "12    44\n",
       "9     41\n",
       "8     35\n",
       "14    32\n",
       "22    30\n",
       "1     29\n",
       "18    29\n",
       "0     28\n",
       "13    27\n",
       "27    27\n",
       "19    26\n",
       "24    26\n",
       "29    25\n",
       "23    25\n",
       "2     25\n",
       "11    24\n",
       "28    23\n",
       "26    22\n",
       "21    21\n",
       "16    18\n",
       "10    17\n",
       "7     16\n",
       "20    16\n",
       "6     15\n",
       "15    13\n",
       "Name: COMPUTER FUNDAMENTALS, dtype: int64"
      ]
     },
     "execution_count": 41,
     "metadata": {},
     "output_type": "execute_result"
    }
   ],
   "source": [
    "df_cf"
   ]
  },
  {
   "cell_type": "code",
   "execution_count": 42,
   "metadata": {},
   "outputs": [],
   "source": [
    "absent_count_cf = 0\n",
    "present_count_cf = 0\n",
    "pass_count_cf = 0\n",
    "fail_count_cf = 0\n",
    "\n",
    "for i in range(len(df_cf)):\n",
    "    if df_cf[i] != 0:\n",
    "        present_count_cf += 1\n",
    "        \n",
    "    else:\n",
    "        absent_count_cf += 1\n",
    "        \n",
    "    if df_cf[i] < 16.5:\n",
    "        fail_count_cf += 1\n",
    "        \n",
    "    else:\n",
    "        pass_count_cf += 1\n",
    "        "
   ]
  },
  {
   "cell_type": "markdown",
   "metadata": {},
   "source": [
    "**Present Vs Absent in Computer Fundamentals**"
   ]
  },
  {
   "cell_type": "code",
   "execution_count": 43,
   "metadata": {},
   "outputs": [
    {
     "data": {
      "image/png": "[encoded data removed]",
      "text/plain": [
       "<Figure size 432x288 with 1 Axes>"
      ]
     },
     "metadata": {},
     "output_type": "display_data"
    }
   ],
   "source": [
    "labels = 'Present', 'Absent/Zero Obtained'\n",
    "sizes = [present_count_cf, absent_count_cf]\n",
    "explode = [0, 0.2]\n",
    "fig1, ax1 = plt.subplots()\n",
    "ax1.pie(sizes, explode=explode, labels=labels, autopct='%1.1f%%',\n",
    "        shadow=True, startangle=90)\n",
    "ax1.axis('equal')  # Equal aspect ratio ensures that pie is drawn as a circle.\n",
    "\n",
    "plt.show()"
   ]
  },
  {
   "cell_type": "markdown",
   "metadata": {},
   "source": [
    "**Pie chart visualisation for pass/fail ratios in Computer Fundamentals**"
   ]
  },
  {
   "cell_type": "code",
   "execution_count": 44,
   "metadata": {},
   "outputs": [
    {
     "data": {
      "image/png": "[encoded data removed]",
      "text/plain": [
       "<Figure size 432x288 with 1 Axes>"
      ]
     },
     "metadata": {},
     "output_type": "display_data"
    }
   ],
   "source": [
    "labels = 'Pass', 'Fail'\n",
    "sizes = [pass_count_cf, fail_count_cf]\n",
    "explode = [0, 0.2]\n",
    "fig1, ax1 = plt.subplots()\n",
    "ax1.pie(sizes, explode=explode, labels=labels, autopct='%1.1f%%',\n",
    "        shadow=True, startangle=90)\n",
    "ax1.axis('equal')  # Equal aspect ratio ensures that pie is drawn as a circle.\n",
    "\n",
    "plt.show()"
   ]
  },
  {
   "cell_type": "markdown",
   "metadata": {},
   "source": [
    "# Analysis of Mathematics"
   ]
  },
  {
   "cell_type": "code",
   "execution_count": 45,
   "metadata": {},
   "outputs": [],
   "source": [
    "df_math = df['MATHS']"
   ]
  },
  {
   "cell_type": "code",
   "execution_count": 46,
   "metadata": {},
   "outputs": [
    {
     "data": {
      "text/plain": [
       "0     15\n",
       "1     22\n",
       "2      7\n",
       "3     27\n",
       "4     40\n",
       "5     30\n",
       "6      0\n",
       "7      2\n",
       "8      7\n",
       "9     12\n",
       "10     5\n",
       "11    22\n",
       "12     5\n",
       "13     5\n",
       "14     9\n",
       "15     6\n",
       "16     8\n",
       "17    40\n",
       "18     5\n",
       "19    10\n",
       "20     5\n",
       "21     0\n",
       "22    12\n",
       "23     0\n",
       "24     2\n",
       "25    21\n",
       "26     5\n",
       "27     5\n",
       "28     4\n",
       "29     1\n",
       "Name: MATHS, dtype: int64"
      ]
     },
     "execution_count": 46,
     "metadata": {},
     "output_type": "execute_result"
    }
   ],
   "source": [
    "df_math"
   ]
  },
  {
   "cell_type": "code",
   "execution_count": 47,
   "metadata": {},
   "outputs": [
    {
     "data": {
      "text/plain": [
       "count    30.000000\n",
       "mean     11.066667\n",
       "std      11.227839\n",
       "min       0.000000\n",
       "25%       5.000000\n",
       "50%       6.500000\n",
       "75%      14.250000\n",
       "max      40.000000\n",
       "Name: MATHS, dtype: float64"
      ]
     },
     "execution_count": 47,
     "metadata": {},
     "output_type": "execute_result"
    }
   ],
   "source": [
    "df_math.describe()"
   ]
  },
  {
   "cell_type": "code",
   "execution_count": 48,
   "metadata": {},
   "outputs": [],
   "source": [
    "df_math_asc = df_math.sort_values(ascending=False)"
   ]
  },
  {
   "cell_type": "code",
   "execution_count": 49,
   "metadata": {},
   "outputs": [],
   "source": [
    "high_five_marks_math = np.unique(df_math_asc.head(5))"
   ]
  },
  {
   "cell_type": "code",
   "execution_count": 50,
   "metadata": {},
   "outputs": [
    {
     "data": {
      "text/plain": [
       "array([22, 27, 30, 40], dtype=int64)"
      ]
     },
     "execution_count": 50,
     "metadata": {},
     "output_type": "execute_result"
    }
   ],
   "source": [
    "high_five_marks_math"
   ]
  },
  {
   "cell_type": "code",
   "execution_count": 51,
   "metadata": {},
   "outputs": [],
   "source": [
    "high_five_name_math = []\n",
    "\n",
    "for item in high_five_marks_math:\n",
    "    temp = df[df['MATHS'] == item].index.values\n",
    "    for j_item in temp:\n",
    "        high_five_name_math.append(df.loc[j_item, 'NAME'])\n",
    "    "
   ]
  },
  {
   "cell_type": "code",
   "execution_count": 52,
   "metadata": {},
   "outputs": [
    {
     "data": {
      "text/plain": [
       "['KAPIL MANDAL', 'KUNAL SAINI ', 'RUPAM', 'MONICA AGGARWAL', 'HARSH', 'YOGESH']"
      ]
     },
     "execution_count": 52,
     "metadata": {},
     "output_type": "execute_result"
    }
   ],
   "source": [
    "high_five_name_math"
   ]
  },
  {
   "cell_type": "code",
   "execution_count": 53,
   "metadata": {},
   "outputs": [],
   "source": [
    "high_five_score_math = []\n",
    "for item in high_five_name_math:\n",
    "    temp = df[df['NAME'] == item].index.values\n",
    "    high_five_score_math.append(df.loc[temp[0], 'MATHS'])"
   ]
  },
  {
   "cell_type": "code",
   "execution_count": 54,
   "metadata": {},
   "outputs": [
    {
     "data": {
      "text/plain": [
       "[22, 22, 27, 30, 40, 40]"
      ]
     },
     "execution_count": 54,
     "metadata": {},
     "output_type": "execute_result"
    }
   ],
   "source": [
    "high_five_score_math"
   ]
  },
  {
   "cell_type": "markdown",
   "metadata": {},
   "source": [
    "**Top performers in Mathematics**"
   ]
  },
  {
   "cell_type": "code",
   "execution_count": 55,
   "metadata": {},
   "outputs": [
    {
     "data": {
      "image/png": "[encoded data removed]",
      "text/plain": [
       "<Figure size 432x288 with 1 Axes>"
      ]
     },
     "metadata": {
      "needs_background": "light"
     },
     "output_type": "display_data"
    }
   ],
   "source": [
    "fig = plt.figure()\n",
    "ax = fig.add_axes([0,0,1,1])\n",
    "name = high_five_name_math\n",
    "scores = high_five_score_math\n",
    "ax.bar(name,scores, color='red', width=0.5, align='center')\n",
    "# plt.xlabel('NAME OF THE STUDENTS')\n",
    "plt.ylabel('MARKS OBTAINED')\n",
    "plt.title('TOP PERFORMERS')\n",
    "plt.show()"
   ]
  },
  {
   "cell_type": "code",
   "execution_count": 56,
   "metadata": {},
   "outputs": [],
   "source": [
    "absent_count_math = 0\n",
    "present_count_math = 0\n",
    "pass_count_math = 0\n",
    "fail_count_math = 0\n",
    "\n",
    "for i in range(len(df_math)):\n",
    "    if df_math[i] != 0:\n",
    "        present_count_math += 1\n",
    "        \n",
    "    else:\n",
    "        absent_count_math += 1\n",
    "        \n",
    "    if df_math[i] > 16.5:\n",
    "        pass_count_math += 1\n",
    "        \n",
    "    else:\n",
    "        fail_count_math += 1"
   ]
  },
  {
   "cell_type": "code",
   "execution_count": 57,
   "metadata": {},
   "outputs": [
    {
     "name": "stdout",
     "output_type": "stream",
     "text": [
      "3 27 7 23\n"
     ]
    }
   ],
   "source": [
    "print(f'{absent_count_math} {present_count_math} {pass_count_math} {fail_count_math}')"
   ]
  },
  {
   "cell_type": "markdown",
   "metadata": {},
   "source": [
    "**Present Vs Absent in Mathematics**"
   ]
  },
  {
   "cell_type": "code",
   "execution_count": 58,
   "metadata": {},
   "outputs": [
    {
     "data": {
      "image/png": "[encoded data removed]",
      "text/plain": [
       "<Figure size 432x288 with 1 Axes>"
      ]
     },
     "metadata": {},
     "output_type": "display_data"
    }
   ],
   "source": [
    "labels = 'Present', 'Absent/Zero Obtained'\n",
    "sizes = [present_count_math, absent_count_math]\n",
    "explode = [0, 0.2]\n",
    "fig1, ax1 = plt.subplots()\n",
    "ax1.pie(sizes, explode=explode, labels=labels, autopct='%1.1f%%',\n",
    "        shadow=True, startangle=90)\n",
    "ax1.axis('equal')  # Equal aspect ratio ensures that pie is drawn as a circle.\n",
    "\n",
    "plt.show()"
   ]
  },
  {
   "cell_type": "markdown",
   "metadata": {},
   "source": [
    "**Pie chart visualisation for pass/fail ratios in Mathematics**"
   ]
  },
  {
   "cell_type": "code",
   "execution_count": 59,
   "metadata": {},
   "outputs": [
    {
     "data": {
      "image/png": "[encoded data removed]",
      "text/plain": [
       "<Figure size 432x288 with 1 Axes>"
      ]
     },
     "metadata": {},
     "output_type": "display_data"
    }
   ],
   "source": [
    "labels = 'Pass', 'Fail'\n",
    "sizes = [pass_count_math, fail_count_math]\n",
    "explode = [0, 0.2]\n",
    "fig1, ax1 = plt.subplots()\n",
    "ax1.pie(sizes, explode=explode, labels=labels, autopct='%1.1f%%',\n",
    "        shadow=True, startangle=90)\n",
    "ax1.axis('equal')  # Equal aspect ratio ensures that pie is drawn as a circle.\n",
    "\n",
    "plt.show()"
   ]
  },
  {
   "cell_type": "markdown",
   "metadata": {},
   "source": [
    "**List of Absentess and Those who scored zero**"
   ]
  },
  {
   "cell_type": "code",
   "execution_count": 60,
   "metadata": {},
   "outputs": [],
   "source": [
    "absent_list_math = df[df['MATHS'] == 0]\n",
    "absent_list_math = np.array(absent_list_math['NAME'])"
   ]
  },
  {
   "cell_type": "code",
   "execution_count": 61,
   "metadata": {},
   "outputs": [
    {
     "name": "stdout",
     "output_type": "stream",
     "text": [
      "1. AYUSH SINGH\n",
      "2. SHUBHAM GAUR\n",
      "3. VIKAS K PANDEY\n"
     ]
    }
   ],
   "source": [
    "count = 1\n",
    "for item in absent_list_math:\n",
    "    print(f'{count}. {item}')\n",
    "    count += 1"
   ]
  },
  {
   "cell_type": "markdown",
   "metadata": {},
   "source": [
    "# Analysis of Logical Organisation"
   ]
  },
  {
   "cell_type": "code",
   "execution_count": 62,
   "metadata": {},
   "outputs": [],
   "source": [
    "df_lo = df['LOGICAL ORGANISATION']"
   ]
  },
  {
   "cell_type": "code",
   "execution_count": 63,
   "metadata": {},
   "outputs": [
    {
     "data": {
      "text/plain": [
       "0     31\n",
       "1     37\n",
       "2     26\n",
       "3     41\n",
       "4     38\n",
       "5     42\n",
       "6      0\n",
       "7     15\n",
       "8     19\n",
       "9     39\n",
       "10     0\n",
       "11    19\n",
       "12    26\n",
       "13    15\n",
       "14    31\n",
       "15    21\n",
       "16    31\n",
       "17    49\n",
       "18    18\n",
       "19    20\n",
       "20    13\n",
       "21     0\n",
       "22    11\n",
       "23    14\n",
       "24    23\n",
       "25    38\n",
       "26    39\n",
       "27    29\n",
       "28    24\n",
       "29     0\n",
       "Name: LOGICAL ORGANISATION, dtype: int64"
      ]
     },
     "execution_count": 63,
     "metadata": {},
     "output_type": "execute_result"
    }
   ],
   "source": [
    "df_lo"
   ]
  },
  {
   "cell_type": "code",
   "execution_count": 64,
   "metadata": {},
   "outputs": [],
   "source": [
    "df_lo_asc = df_lo.sort_values(ascending=False)"
   ]
  },
  {
   "cell_type": "code",
   "execution_count": 65,
   "metadata": {},
   "outputs": [
    {
     "data": {
      "text/plain": [
       "17    49\n",
       "5     42\n",
       "3     41\n",
       "26    39\n",
       "9     39\n",
       "25    38\n",
       "4     38\n",
       "1     37\n",
       "14    31\n",
       "16    31\n",
       "0     31\n",
       "27    29\n",
       "12    26\n",
       "2     26\n",
       "28    24\n",
       "24    23\n",
       "15    21\n",
       "19    20\n",
       "11    19\n",
       "8     19\n",
       "18    18\n",
       "13    15\n",
       "7     15\n",
       "23    14\n",
       "20    13\n",
       "22    11\n",
       "21     0\n",
       "6      0\n",
       "10     0\n",
       "29     0\n",
       "Name: LOGICAL ORGANISATION, dtype: int64"
      ]
     },
     "execution_count": 65,
     "metadata": {},
     "output_type": "execute_result"
    }
   ],
   "source": [
    "df_lo_asc"
   ]
  },
  {
   "cell_type": "code",
   "execution_count": 66,
   "metadata": {},
   "outputs": [],
   "source": [
    "high_five_marks_lo = np.unique(np.array(df_lo_asc.head(5)))"
   ]
  },
  {
   "cell_type": "code",
   "execution_count": 67,
   "metadata": {},
   "outputs": [
    {
     "data": {
      "text/plain": [
       "array([39, 41, 42, 49], dtype=int64)"
      ]
     },
     "execution_count": 67,
     "metadata": {},
     "output_type": "execute_result"
    }
   ],
   "source": [
    "high_five_marks_lo"
   ]
  },
  {
   "cell_type": "code",
   "execution_count": 68,
   "metadata": {},
   "outputs": [],
   "source": [
    "high_five_name_lo = []\n",
    "for i in range(len(high_five_marks_lo)):\n",
    "    index = df[df['LOGICAL ORGANISATION'] == high_five_marks_lo[i]].index.values\n",
    "    for j in range(len(index)):\n",
    "        high_five_name_lo.append(df.loc[index[j], 'NAME'])"
   ]
  },
  {
   "cell_type": "code",
   "execution_count": 69,
   "metadata": {},
   "outputs": [
    {
     "data": {
      "text/plain": [
       "['VISHAL KUMAR', 'VISHAL PANDEY', 'RUPAM', 'MONICA AGGARWAL', 'YOGESH']"
      ]
     },
     "execution_count": 69,
     "metadata": {},
     "output_type": "execute_result"
    }
   ],
   "source": [
    "high_five_name_lo"
   ]
  },
  {
   "cell_type": "code",
   "execution_count": 70,
   "metadata": {},
   "outputs": [],
   "source": [
    "high_five_score_lo = []\n",
    "for item in high_five_name_lo:\n",
    "    temp = df[df['NAME'] == item].index.values\n",
    "    high_five_score_lo.append(df.loc[temp[0], 'LOGICAL ORGANISATION'])"
   ]
  },
  {
   "cell_type": "code",
   "execution_count": 71,
   "metadata": {},
   "outputs": [
    {
     "data": {
      "text/plain": [
       "[39, 39, 41, 42, 49]"
      ]
     },
     "execution_count": 71,
     "metadata": {},
     "output_type": "execute_result"
    }
   ],
   "source": [
    "high_five_score_lo"
   ]
  },
  {
   "cell_type": "markdown",
   "metadata": {},
   "source": [
    "**Top performers in Logical Organisation**"
   ]
  },
  {
   "cell_type": "code",
   "execution_count": 72,
   "metadata": {},
   "outputs": [
    {
     "data": {
      "image/png": "[encoded data removed]",
      "text/plain": [
       "<Figure size 432x288 with 1 Axes>"
      ]
     },
     "metadata": {
      "needs_background": "light"
     },
     "output_type": "display_data"
    }
   ],
   "source": [
    "fig = plt.figure()\n",
    "ax = fig.add_axes([0,0,1,1])\n",
    "name = high_five_name_lo\n",
    "scores = high_five_score_lo\n",
    "ax.bar(name,scores, color='brown', width=0.5, align='center')\n",
    "plt.xlabel('NAME OF THE STUDENTS')\n",
    "plt.ylabel('MARKS OBTAINED')\n",
    "plt.title('TOP PERFORMERS')\n",
    "plt.show()"
   ]
  },
  {
   "cell_type": "code",
   "execution_count": 73,
   "metadata": {},
   "outputs": [],
   "source": [
    "absent_count_lo = 0\n",
    "present_count_lo = 0\n",
    "pass_count_lo = 0\n",
    "fail_count_lo = 0\n",
    "\n",
    "for i in range(len(df_lo)):\n",
    "    if df_lo[i] != 0:\n",
    "        present_count_lo += 1\n",
    "        \n",
    "    else:\n",
    "        absent_count_lo += 1\n",
    "        \n",
    "    if df_lo[i] < 16.5:\n",
    "        fail_count_lo += 1\n",
    "        \n",
    "    else:\n",
    "        pass_count_lo += 1"
   ]
  },
  {
   "cell_type": "code",
   "execution_count": 74,
   "metadata": {},
   "outputs": [
    {
     "name": "stdout",
     "output_type": "stream",
     "text": [
      "4 26 21 9\n"
     ]
    }
   ],
   "source": [
    "print(f'{absent_count_lo} {present_count_lo} {pass_count_lo} {fail_count_lo}')"
   ]
  },
  {
   "cell_type": "markdown",
   "metadata": {},
   "source": [
    "**Present Vs Absent in Logical Organisation**"
   ]
  },
  {
   "cell_type": "code",
   "execution_count": 75,
   "metadata": {},
   "outputs": [
    {
     "data": {
      "image/png": "[encoded data removed]",
      "text/plain": [
       "<Figure size 432x288 with 1 Axes>"
      ]
     },
     "metadata": {},
     "output_type": "display_data"
    }
   ],
   "source": [
    "labels = 'Present', 'Absent/Zero Obtained'\n",
    "sizes = [present_count_lo, absent_count_lo]\n",
    "explode = [0, 0.2]\n",
    "fig1, ax1 = plt.subplots()\n",
    "ax1.pie(sizes, explode=explode, labels=labels, autopct='%1.1f%%',\n",
    "        shadow=True, startangle=90)\n",
    "ax1.axis('equal')  # Equal aspect ratio ensures that pie is drawn as a circle.\n",
    "\n",
    "plt.show()"
   ]
  },
  {
   "cell_type": "markdown",
   "metadata": {},
   "source": [
    "**Pass Fail Ratio in Logical Organisation**"
   ]
  },
  {
   "cell_type": "code",
   "execution_count": 76,
   "metadata": {},
   "outputs": [
    {
     "data": {
      "image/png": "[encoded data removed]",
      "text/plain": [
       "<Figure size 432x288 with 1 Axes>"
      ]
     },
     "metadata": {},
     "output_type": "display_data"
    }
   ],
   "source": [
    "labels = 'Pass', 'Fail'\n",
    "sizes = [pass_count_lo, fail_count_lo]\n",
    "explode = [0, 0.2]\n",
    "fig1, ax1 = plt.subplots()\n",
    "ax1.pie(sizes, explode=explode, labels=labels, autopct='%1.1f%%',\n",
    "        shadow=True, startangle=90)\n",
    "ax1.axis('equal')  # Equal aspect ratio ensures that pie is drawn as a circle.\n",
    "\n",
    "plt.show()"
   ]
  },
  {
   "cell_type": "markdown",
   "metadata": {},
   "source": [
    "**List of Absentees/Zero in Logical Organisation**"
   ]
  },
  {
   "cell_type": "code",
   "execution_count": 77,
   "metadata": {},
   "outputs": [],
   "source": [
    "absent_list_lo = df[df['LOGICAL ORGANISATION'] == 0]"
   ]
  },
  {
   "cell_type": "code",
   "execution_count": 78,
   "metadata": {},
   "outputs": [],
   "source": [
    "absent_list_lo = np.array(absent_list_lo['NAME'])"
   ]
  },
  {
   "cell_type": "code",
   "execution_count": 79,
   "metadata": {},
   "outputs": [
    {
     "name": "stdout",
     "output_type": "stream",
     "text": [
      "1. AYUSH SINGH\n",
      "1. ROHAN\n",
      "1. SHUBHAM GAUR\n",
      "1. ARYAMAN RANA\n"
     ]
    }
   ],
   "source": [
    "count = 1\n",
    "for item in absent_list_lo:\n",
    "    print(f'{count}. {item}')"
   ]
  },
  {
   "cell_type": "markdown",
   "metadata": {},
   "source": [
    "# Analysis of C Language\n"
   ]
  },
  {
   "cell_type": "code",
   "execution_count": 80,
   "metadata": {},
   "outputs": [],
   "source": [
    "df_cl = df['C LANGUAGE']"
   ]
  },
  {
   "cell_type": "code",
   "execution_count": 81,
   "metadata": {},
   "outputs": [
    {
     "data": {
      "text/plain": [
       "0     37\n",
       "1     22\n",
       "2     12\n",
       "3     40\n",
       "4     34\n",
       "5     34\n",
       "6      0\n",
       "7      7\n",
       "8     20\n",
       "9     19\n",
       "10     0\n",
       "11    12\n",
       "12     0\n",
       "13     0\n",
       "14    15\n",
       "15    17\n",
       "16    12\n",
       "17    35\n",
       "18    24\n",
       "19    24\n",
       "20    11\n",
       "21    15\n",
       "22    13\n",
       "23    15\n",
       "24    10\n",
       "25    37\n",
       "26    21\n",
       "27    22\n",
       "28    16\n",
       "29     0\n",
       "Name: C LANGUAGE, dtype: int64"
      ]
     },
     "execution_count": 81,
     "metadata": {},
     "output_type": "execute_result"
    }
   ],
   "source": [
    "df_cl"
   ]
  },
  {
   "cell_type": "code",
   "execution_count": 82,
   "metadata": {},
   "outputs": [],
   "source": [
    "df_cl_asc = df_cl.sort_values(ascending=False)"
   ]
  },
  {
   "cell_type": "code",
   "execution_count": 83,
   "metadata": {},
   "outputs": [
    {
     "data": {
      "text/plain": [
       "3     40\n",
       "0     37\n",
       "25    37\n",
       "17    35\n",
       "4     34\n",
       "5     34\n",
       "19    24\n",
       "18    24\n",
       "27    22\n",
       "1     22\n",
       "26    21\n",
       "8     20\n",
       "9     19\n",
       "15    17\n",
       "28    16\n",
       "14    15\n",
       "21    15\n",
       "23    15\n",
       "22    13\n",
       "11    12\n",
       "16    12\n",
       "2     12\n",
       "20    11\n",
       "24    10\n",
       "7      7\n",
       "13     0\n",
       "12     0\n",
       "10     0\n",
       "6      0\n",
       "29     0\n",
       "Name: C LANGUAGE, dtype: int64"
      ]
     },
     "execution_count": 83,
     "metadata": {},
     "output_type": "execute_result"
    }
   ],
   "source": [
    "df_cl_asc"
   ]
  },
  {
   "cell_type": "code",
   "execution_count": 84,
   "metadata": {},
   "outputs": [],
   "source": [
    "high_five_marks_cl = np.unique(np.array(df_cl_asc.head(5)))"
   ]
  },
  {
   "cell_type": "code",
   "execution_count": 85,
   "metadata": {},
   "outputs": [
    {
     "data": {
      "text/plain": [
       "array([34, 35, 37, 40], dtype=int64)"
      ]
     },
     "execution_count": 85,
     "metadata": {},
     "output_type": "execute_result"
    }
   ],
   "source": [
    "high_five_marks_cl"
   ]
  },
  {
   "cell_type": "code",
   "execution_count": 86,
   "metadata": {},
   "outputs": [],
   "source": [
    "high_five_name_cl = []\n",
    "for i in range(len(high_five_marks_cl)):\n",
    "    item = df[df['C LANGUAGE'] == high_five_marks_cl[i]].index.values\n",
    "    for j in range(len(item)):\n",
    "        high_five_name_cl.append(df.loc[item[j], 'NAME'])"
   ]
  },
  {
   "cell_type": "code",
   "execution_count": 87,
   "metadata": {},
   "outputs": [
    {
     "data": {
      "text/plain": [
       "['HARSH', 'MONICA AGGARWAL', 'YOGESH', 'TEJAS', 'POONAM', 'RUPAM']"
      ]
     },
     "execution_count": 87,
     "metadata": {},
     "output_type": "execute_result"
    }
   ],
   "source": [
    "high_five_name_cl"
   ]
  },
  {
   "cell_type": "code",
   "execution_count": 88,
   "metadata": {},
   "outputs": [],
   "source": [
    "high_five_score_cl = []\n",
    "for item in high_five_name_cl:\n",
    "    temp = df[df['NAME'] == item].index.values\n",
    "    high_five_score_cl.append(df.loc[temp[0], 'C LANGUAGE'])"
   ]
  },
  {
   "cell_type": "code",
   "execution_count": 89,
   "metadata": {},
   "outputs": [
    {
     "data": {
      "text/plain": [
       "[34, 34, 35, 37, 37, 40]"
      ]
     },
     "execution_count": 89,
     "metadata": {},
     "output_type": "execute_result"
    }
   ],
   "source": [
    "high_five_score_cl"
   ]
  },
  {
   "cell_type": "markdown",
   "metadata": {},
   "source": [
    "**Top Performers in C Language**"
   ]
  },
  {
   "cell_type": "code",
   "execution_count": 90,
   "metadata": {},
   "outputs": [
    {
     "data": {
      "image/png": "[encoded data removed]",
      "text/plain": [
       "<Figure size 432x288 with 1 Axes>"
      ]
     },
     "metadata": {
      "needs_background": "light"
     },
     "output_type": "display_data"
    }
   ],
   "source": [
    "fig = plt.figure()\n",
    "ax = fig.add_axes([0,0,1,1])\n",
    "name = high_five_name_cl\n",
    "scores = high_five_score_cl\n",
    "ax.bar(name,scores, color='orange', width=0.5, align='center')\n",
    "plt.xlabel('NAME OF THE STUDENTS')\n",
    "plt.ylabel('MARKS OBTAINED')\n",
    "plt.title('TOP PERFORMERS')\n",
    "plt.show()"
   ]
  },
  {
   "cell_type": "code",
   "execution_count": 91,
   "metadata": {},
   "outputs": [],
   "source": [
    "present_count_cl = 0\n",
    "absent_count_cl = 0\n",
    "pass_count_cl = 0\n",
    "fail_count_cl = 0\n",
    "\n",
    "for i in range(len(df_cl)):\n",
    "    if df_cl[i] != 0:\n",
    "        present_count_cl += 1\n",
    "        \n",
    "    else:\n",
    "        absent_count_cl += 1\n",
    "        \n",
    "    if df_cl[i] < 16.5:\n",
    "        fail_count_cl += 1\n",
    "        \n",
    "    else:\n",
    "        pass_count_cl += 1"
   ]
  },
  {
   "cell_type": "code",
   "execution_count": 92,
   "metadata": {},
   "outputs": [
    {
     "name": "stdout",
     "output_type": "stream",
     "text": [
      "5 25 14 16\n"
     ]
    }
   ],
   "source": [
    "print(f'{absent_count_cl} {present_count_cl} {pass_count_cl} {fail_count_cl}')"
   ]
  },
  {
   "cell_type": "markdown",
   "metadata": {},
   "source": [
    "**Present Vs Absent in C Language**"
   ]
  },
  {
   "cell_type": "code",
   "execution_count": 93,
   "metadata": {},
   "outputs": [
    {
     "data": {
      "image/png": "[encoded data removed]",
      "text/plain": [
       "<Figure size 432x288 with 1 Axes>"
      ]
     },
     "metadata": {},
     "output_type": "display_data"
    }
   ],
   "source": [
    "labels = 'Present', 'Absent/Zero Obtained'\n",
    "sizes = [present_count_cl, absent_count_cl]\n",
    "explode = [0, 0.2]\n",
    "fig1, ax1 = plt.subplots()\n",
    "ax1.pie(sizes, explode=explode, labels=labels, autopct='%1.1f%%',\n",
    "        shadow=True, startangle=90)\n",
    "ax1.axis('equal')  # Equal aspect ratio ensures that pie is drawn as a circle.\n",
    "\n",
    "plt.show()"
   ]
  },
  {
   "cell_type": "markdown",
   "metadata": {},
   "source": [
    "**Pass Fail Ratio in C Language**"
   ]
  },
  {
   "cell_type": "code",
   "execution_count": 94,
   "metadata": {},
   "outputs": [
    {
     "data": {
      "image/png": "[encoded data removed]",
      "text/plain": [
       "<Figure size 432x288 with 1 Axes>"
      ]
     },
     "metadata": {},
     "output_type": "display_data"
    }
   ],
   "source": [
    "labels = 'Pass', 'Fail'\n",
    "sizes = [pass_count_cl, fail_count_cl]\n",
    "explode = [0, 0.2]\n",
    "fig1, ax1 = plt.subplots()\n",
    "ax1.pie(sizes, explode=explode, labels=labels, autopct='%1.1f%%',\n",
    "        shadow=True, startangle=90)\n",
    "ax1.axis('equal')  # Equal aspect ratio ensures that pie is drawn as a circle.\n",
    "\n",
    "plt.show()"
   ]
  },
  {
   "cell_type": "markdown",
   "metadata": {},
   "source": [
    "**List Of Absentess/Zero scorers in C Language**"
   ]
  },
  {
   "cell_type": "code",
   "execution_count": 95,
   "metadata": {},
   "outputs": [],
   "source": [
    "absent_list_cl = df[df['C LANGUAGE'] == 0]"
   ]
  },
  {
   "cell_type": "code",
   "execution_count": 96,
   "metadata": {},
   "outputs": [],
   "source": [
    "absent_list_cl = np.array(absent_list_cl['NAME'])"
   ]
  },
  {
   "cell_type": "code",
   "execution_count": 97,
   "metadata": {},
   "outputs": [
    {
     "name": "stdout",
     "output_type": "stream",
     "text": [
      "1. AYUSH SINGH\n",
      "2. ROHAN\n",
      "3. SIMRAN JHA\n",
      "4. RIYA\n",
      "5. ARYAMAN RANA\n"
     ]
    }
   ],
   "source": [
    "count = 1\n",
    "for item in absent_list_cl:\n",
    "    print(f'{count}. {item}')\n",
    "    count += 1"
   ]
  },
  {
   "cell_type": "code",
   "execution_count": null,
   "metadata": {},
   "outputs": [],
   "source": []
  }
 ],
 "metadata": {
  "kernelspec": {
   "display_name": "Python 3",
   "language": "python",
   "name": "python3"
  },
  "language_info": {
   "codemirror_mode": {
    "name": "ipython",
    "version": 3
   },
   "file_extension": ".py",
   "mimetype": "text/x-python",
   "name": "python",
   "nbconvert_exporter": "python",
   "pygments_lexer": "ipython3",
   "version": "3.7.4"
  }
 },
 "nbformat": 4,
 "nbformat_minor": 4
}
